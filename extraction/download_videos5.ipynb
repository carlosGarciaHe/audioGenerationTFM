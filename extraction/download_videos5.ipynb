{
 "cells": [
  {
   "cell_type": "code",
   "execution_count": null,
   "id": "210ee719",
   "metadata": {},
   "outputs": [],
   "source": [
    "import pandas as pd\n",
    "import youtube_dl\n",
    "from moviepy.editor import *\n",
    "from moviepy.video.io.ffmpeg_tools import ffmpeg_extract_subclip, ffmpeg_resize\n",
    "import boto3\n",
    "import glob\n",
    "from torchvision.io import read_video\n",
    "from moviepy.audio import fx\n",
    "import signal"
   ]
  },
  {
   "cell_type": "code",
   "execution_count": null,
   "id": "ab8a699e-f7ba-442b-a942-2427282eb491",
   "metadata": {},
   "outputs": [],
   "source": [
    "s3 = boto3.resource('s3')"
   ]
  },
  {
   "cell_type": "code",
   "execution_count": null,
   "id": "825050a4",
   "metadata": {},
   "outputs": [],
   "source": [
    "df = pd.read_csv(\"../unbalanced_train_segments.csv\", header=[0,1,2]).iloc[400000:500000,:]"
   ]
  },
  {
   "cell_type": "code",
   "execution_count": null,
   "id": "24c171c0",
   "metadata": {},
   "outputs": [],
   "source": [
    "df"
   ]
  },
  {
   "cell_type": "code",
   "execution_count": null,
   "id": "6aa51a7f",
   "metadata": {},
   "outputs": [],
   "source": [
    "df.columns = [\"link\", \"start_second\", \"end_second\", \"labels\"]"
   ]
  },
  {
   "cell_type": "code",
   "execution_count": null,
   "id": "5903fe91-670e-4ce4-ace2-2c463e1506d8",
   "metadata": {},
   "outputs": [],
   "source": [
    "len(df)"
   ]
  },
  {
   "cell_type": "code",
   "execution_count": null,
   "id": "e518e98d-ec9e-4701-8dce-d35d997d19f4",
   "metadata": {},
   "outputs": [],
   "source": [
    "with open(\"list_downloaded_videos5.txt\", 'r') as f:\n",
    "    list_links = []\n",
    "    for line in f.readlines():\n",
    "        list_links.append(line.replace(\"\\n\", \"\"))"
   ]
  },
  {
   "cell_type": "code",
   "execution_count": null,
   "id": "e20880c9-ee1b-45cb-b198-15542086c7eb",
   "metadata": {},
   "outputs": [],
   "source": [
    "historic = pd.read_csv(\"list_downloaded_videos5.txt\", header=None)"
   ]
  },
  {
   "cell_type": "code",
   "execution_count": null,
   "id": "084dcb10-ac1d-4388-a06d-29b03086818c",
   "metadata": {},
   "outputs": [],
   "source": [
    "list_links = list(historic[0])"
   ]
  },
  {
   "cell_type": "code",
   "execution_count": null,
   "id": "c75ed4a6-b8b7-4927-b2d3-939c675eb1e8",
   "metadata": {},
   "outputs": [],
   "source": [
    "df = df[~df['link'].isin(list_links)]"
   ]
  },
  {
   "cell_type": "code",
   "execution_count": null,
   "id": "eb6bfcf5-69af-4397-a5be-779aa0dec4fe",
   "metadata": {},
   "outputs": [],
   "source": [
    "len(df)"
   ]
  },
  {
   "cell_type": "code",
   "execution_count": null,
   "id": "6d47a823-d5a5-464f-9419-d71297db95d5",
   "metadata": {},
   "outputs": [],
   "source": [
    "df = df[df[\"end_second\"]-df[\"start_second\"]>=10000]"
   ]
  },
  {
   "cell_type": "code",
   "execution_count": null,
   "id": "589e152c-0b41-44d1-a83a-16c96e99aedc",
   "metadata": {},
   "outputs": [],
   "source": [
    "len(df)"
   ]
  },
  {
   "cell_type": "code",
   "execution_count": null,
   "id": "5966737d-4132-45b8-9121-6d2d602fdf9d",
   "metadata": {},
   "outputs": [],
   "source": [
    "def signal_handler(signum, frame):\n",
    "    raise Exception(\"Timed out!\")"
   ]
  },
  {
   "cell_type": "code",
   "execution_count": null,
   "id": "f2af266f-45a6-48b4-b26f-6a9c0d805103",
   "metadata": {},
   "outputs": [],
   "source": [
    "N_VIDEO_FRAMES = 150\n",
    "N_AUDIO_FRAMES = 80000"
   ]
  },
  {
   "cell_type": "code",
   "execution_count": null,
   "id": "35fc82d8",
   "metadata": {},
   "outputs": [],
   "source": [
    "for idx, row in df.iterrows():\n",
    "    complete_link = 'https://www.youtube.com/watch?v=%s'%row[\"link\"]\n",
    "    Path = \"tmp5/\"\n",
    "    Location = '%s %(title)s.%(ext)s'.replace(\"%s \", Path)\n",
    "    ytdl_format_options = {\n",
    "    'outtmpl': Location\n",
    "    }\n",
    "    try:\n",
    "        with youtube_dl.YoutubeDL(ytdl_format_options) as ydl:\n",
    "            info_dict = ydl.extract_info(complete_link, download=False)\n",
    "            title = info_dict.get('title', None)\n",
    "            duration = info_dict.get('duration', None)\n",
    "            signal.signal(signal.SIGALRM, signal_handler)\n",
    "            signal.alarm(20) \n",
    "            ydl.download([complete_link])\n",
    "            ffmpeg_extract_subclip(Path+title+\".mp4\", row[\"start_second\"]/1000, (row[\"start_second\"]+5000)/1000, targetname=Path+\"cut.mp4\")\n",
    "            clip = VideoFileClip(Path+\"cut.mp4\").fx(afx.audio_normalize)\n",
    "            clip = clip.resize(newsize=(224,224))\n",
    "            clip.write_videofile(Path+\"resize.mp4\", audio_fps=16000, verbose=0, ffmpeg_params=['-ac', '1'], fps=30)\n",
    "            clip = VideoFileClip(Path+\"resize.mp4\")\n",
    "            video = read_video(Path+\"resize.mp4\")\n",
    "            if video[1].shape[1]>=N_AUDIO_FRAMES and video[0].shape[0]>=N_VIDEO_FRAMES:\n",
    "                s3.meta.client.upload_file(Path+\"resize.mp4\", 'tfm-historico-videos', \"videos/\"+title+\".mp4\")\n",
    "            files = glob.glob(Path+'*')\n",
    "            for f in files:\n",
    "                os.remove(f)\n",
    "            with open(\"list_downloaded_videos5.txt\", 'a') as f:\n",
    "                f.write(row[\"link\"]+\",\"+\"SI\"+\"\\n\")\n",
    "    except Exception as err:\n",
    "        print(err)\n",
    "        with open(\"list_downloaded_videos5.txt\", 'a') as f:\n",
    "                f.write(row[\"link\"]+\",\"+\"NO\"+\"\\n\")\n",
    "        continue"
   ]
  },
  {
   "cell_type": "code",
   "execution_count": null,
   "id": "77b17419",
   "metadata": {},
   "outputs": [],
   "source": []
  },
  {
   "cell_type": "code",
   "execution_count": null,
   "id": "892452a6-1fc1-4f0b-8970-2af0a1cb2369",
   "metadata": {},
   "outputs": [],
   "source": [
    "s3 = boto3.resource('s3')\n",
    "bucket = s3.Bucket('tfm-historico-videos')"
   ]
  },
  {
   "cell_type": "code",
   "execution_count": null,
   "id": "97252e89-e66b-491b-9d0c-f4644d2f4b11",
   "metadata": {},
   "outputs": [],
   "source": [
    "from torchvision.io import read_video\n",
    "for object in bucket.objects.all():\n",
    "    bucket.download_file(object.key, \"/tmp/video.mp4\")\n",
    "    s3.Object('tfm-historico-videos', object.key).delete()"
   ]
  },
  {
   "cell_type": "code",
   "execution_count": null,
   "id": "9ef64b1a-d9fe-448d-9ac3-3c77cf66a1b4",
   "metadata": {},
   "outputs": [],
   "source": []
  }
 ],
 "metadata": {
  "kernelspec": {
   "display_name": "Python 3 (ipykernel)",
   "language": "python",
   "name": "python3"
  },
  "language_info": {
   "codemirror_mode": {
    "name": "ipython",
    "version": 3
   },
   "file_extension": ".py",
   "mimetype": "text/x-python",
   "name": "python",
   "nbconvert_exporter": "python",
   "pygments_lexer": "ipython3",
   "version": "3.9.6"
  }
 },
 "nbformat": 4,
 "nbformat_minor": 5
}
